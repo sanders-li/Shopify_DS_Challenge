{
 "cells": [
  {
   "cell_type": "markdown",
   "id": "646fa1a7-d332-48da-b160-9cce8a582df7",
   "metadata": {},
   "source": [
    "# Summer 2022 Data Science Intern Challenge \n",
    "\n",
    "## Question 1: Given some sample data, write a program to answer the following:\n",
    "\n",
    "On Shopify, we have exactly 100 sneaker shops, and each of these shops sells only one model of shoe. We want to do some analysis of the average order value (AOV). When we look at orders data over a 30 day window, we naively calculate an AOV of $3145.13. Given that we know these shops are selling sneakers, a relatively affordable item, something seems wrong with our analysis. "
   ]
  },
  {
   "cell_type": "code",
   "execution_count": 1,
   "id": "261b5234-f410-4d35-9688-cdd218cffb56",
   "metadata": {},
   "outputs": [],
   "source": [
    "import pandas as pd\n",
    "import numpy as np\n",
    "from scipy import stats\n",
    "\n",
    "df = pd.read_csv('2019 Winter Data Science Intern Challenge Data Set - Sheet1.csv')"
   ]
  },
  {
   "cell_type": "code",
   "execution_count": 2,
   "id": "e3f7a4e6-4077-4861-a839-5815586e93d0",
   "metadata": {},
   "outputs": [
    {
     "data": {
      "text/html": [
       "<div>\n",
       "<style scoped>\n",
       "    .dataframe tbody tr th:only-of-type {\n",
       "        vertical-align: middle;\n",
       "    }\n",
       "\n",
       "    .dataframe tbody tr th {\n",
       "        vertical-align: top;\n",
       "    }\n",
       "\n",
       "    .dataframe thead th {\n",
       "        text-align: right;\n",
       "    }\n",
       "</style>\n",
       "<table border=\"1\" class=\"dataframe\">\n",
       "  <thead>\n",
       "    <tr style=\"text-align: right;\">\n",
       "      <th></th>\n",
       "      <th>order_id</th>\n",
       "      <th>shop_id</th>\n",
       "      <th>user_id</th>\n",
       "      <th>order_amount</th>\n",
       "      <th>total_items</th>\n",
       "      <th>payment_method</th>\n",
       "      <th>created_at</th>\n",
       "    </tr>\n",
       "  </thead>\n",
       "  <tbody>\n",
       "    <tr>\n",
       "      <th>0</th>\n",
       "      <td>1</td>\n",
       "      <td>53</td>\n",
       "      <td>746</td>\n",
       "      <td>224</td>\n",
       "      <td>2</td>\n",
       "      <td>cash</td>\n",
       "      <td>2017-03-13 12:36:56</td>\n",
       "    </tr>\n",
       "    <tr>\n",
       "      <th>1</th>\n",
       "      <td>2</td>\n",
       "      <td>92</td>\n",
       "      <td>925</td>\n",
       "      <td>90</td>\n",
       "      <td>1</td>\n",
       "      <td>cash</td>\n",
       "      <td>2017-03-03 17:38:52</td>\n",
       "    </tr>\n",
       "    <tr>\n",
       "      <th>2</th>\n",
       "      <td>3</td>\n",
       "      <td>44</td>\n",
       "      <td>861</td>\n",
       "      <td>144</td>\n",
       "      <td>1</td>\n",
       "      <td>cash</td>\n",
       "      <td>2017-03-14 4:23:56</td>\n",
       "    </tr>\n",
       "    <tr>\n",
       "      <th>3</th>\n",
       "      <td>4</td>\n",
       "      <td>18</td>\n",
       "      <td>935</td>\n",
       "      <td>156</td>\n",
       "      <td>1</td>\n",
       "      <td>credit_card</td>\n",
       "      <td>2017-03-26 12:43:37</td>\n",
       "    </tr>\n",
       "    <tr>\n",
       "      <th>4</th>\n",
       "      <td>5</td>\n",
       "      <td>18</td>\n",
       "      <td>883</td>\n",
       "      <td>156</td>\n",
       "      <td>1</td>\n",
       "      <td>credit_card</td>\n",
       "      <td>2017-03-01 4:35:11</td>\n",
       "    </tr>\n",
       "  </tbody>\n",
       "</table>\n",
       "</div>"
      ],
      "text/plain": [
       "   order_id  shop_id  user_id  order_amount  total_items payment_method  \\\n",
       "0         1       53      746           224            2           cash   \n",
       "1         2       92      925            90            1           cash   \n",
       "2         3       44      861           144            1           cash   \n",
       "3         4       18      935           156            1    credit_card   \n",
       "4         5       18      883           156            1    credit_card   \n",
       "\n",
       "            created_at  \n",
       "0  2017-03-13 12:36:56  \n",
       "1  2017-03-03 17:38:52  \n",
       "2   2017-03-14 4:23:56  \n",
       "3  2017-03-26 12:43:37  \n",
       "4   2017-03-01 4:35:11  "
      ]
     },
     "execution_count": 2,
     "metadata": {},
     "output_type": "execute_result"
    }
   ],
   "source": [
    "df.head()"
   ]
  },
  {
   "cell_type": "code",
   "execution_count": 3,
   "id": "9ab65318-c8de-4722-ab62-b7335df25512",
   "metadata": {},
   "outputs": [
    {
     "data": {
      "text/plain": [
       "3145.128"
      ]
     },
     "execution_count": 3,
     "metadata": {},
     "output_type": "execute_result"
    }
   ],
   "source": [
    "df['order_amount'].mean()"
   ]
  },
  {
   "cell_type": "code",
   "execution_count": 4,
   "id": "ac2ceea5-f04b-4afc-9f53-2c3aaa7c9791",
   "metadata": {},
   "outputs": [
    {
     "data": {
      "text/plain": [
       "<AxesSubplot:>"
      ]
     },
     "execution_count": 4,
     "metadata": {},
     "output_type": "execute_result"
    },
    {
     "data": {
      "image/png": "[encoded data removed]",
      "text/plain": [
       "<Figure size 432x288 with 1 Axes>"
      ]
     },
     "metadata": {
      "needs_background": "light"
     },
     "output_type": "display_data"
    }
   ],
   "source": [
    "df['order_amount'].plot.box()"
   ]
  },
  {
   "cell_type": "markdown",
   "id": "9f66d8c2-5cf1-470f-adf8-61b8ed932c34",
   "metadata": {},
   "source": [
    "### Question 1a: Think about what could be going wrong with our calculation. Think about a better way to evaluate this data. \n",
    "\n",
    "There are multiple better ways to evaluate AOV due to the skew of the data. The code and following results are shown below"
   ]
  },
  {
   "cell_type": "markdown",
   "id": "329c1934-a92e-4377-9148-4d9c122d53d5",
   "metadata": {},
   "source": [
    "Median "
   ]
  },
  {
   "cell_type": "code",
   "execution_count": 5,
   "id": "49de765a-2ffd-40c4-8c4d-ba96c3c3a182",
   "metadata": {},
   "outputs": [
    {
     "data": {
      "text/plain": [
       "284.0"
      ]
     },
     "execution_count": 5,
     "metadata": {},
     "output_type": "execute_result"
    }
   ],
   "source": [
    "df['order_amount'].median()"
   ]
  },
  {
   "cell_type": "markdown",
   "id": "5004a4c5-f90c-4b00-a2c5-decda3827965",
   "metadata": {},
   "source": [
    "Mean, excluding outliers outside of 3 standard deviations"
   ]
  },
  {
   "cell_type": "code",
   "execution_count": 6,
   "id": "17a2c81d-b306-4d45-92ea-c6fbf30a06f9",
   "metadata": {},
   "outputs": [
    {
     "data": {
      "text/plain": [
       "723.2617422721798"
      ]
     },
     "execution_count": 6,
     "metadata": {},
     "output_type": "execute_result"
    }
   ],
   "source": [
    "ov_3stdev = df[(np.abs(stats.zscore(df['order_amount'])) < 3)]\n",
    "ov_3stdev['order_amount'].mean()"
   ]
  },
  {
   "cell_type": "markdown",
   "id": "20840149-e300-4bb7-9a00-97171894db2d",
   "metadata": {},
   "source": [
    "Mean, excluding outliers outside of 1.5 IQR"
   ]
  },
  {
   "cell_type": "code",
   "execution_count": 7,
   "id": "1e581fac-8943-4609-8969-df0155ca0cb1",
   "metadata": {},
   "outputs": [
    {
     "data": {
      "text/plain": [
       "293.7153735336489"
      ]
     },
     "execution_count": 7,
     "metadata": {},
     "output_type": "execute_result"
    }
   ],
   "source": [
    "Q1 = df['order_amount'].quantile(0.25)\n",
    "Q3 = df['order_amount'].quantile(0.75)\n",
    "IQR = Q3 - Q1\n",
    "\n",
    "ov_iqr = df[(df['order_amount'] > (Q1 - 1.5 * IQR)) & (df['order_amount'] < (Q3 + 1.5 * IQR))]\n",
    "ov_iqr['order_amount'].mean()"
   ]
  },
  {
   "cell_type": "markdown",
   "id": "7b792bb3-40b8-4d8a-aac1-8108354fc130",
   "metadata": {},
   "source": [
    "Median, excluding outliers outside of 1.5 IQR"
   ]
  },
  {
   "cell_type": "code",
   "execution_count": 8,
   "id": "bee386b9-07c1-4647-870c-722f34dfb543",
   "metadata": {},
   "outputs": [
    {
     "data": {
      "text/plain": [
       "280.0"
      ]
     },
     "execution_count": 8,
     "metadata": {},
     "output_type": "execute_result"
    }
   ],
   "source": [
    "ov_iqr['order_amount'].median()"
   ]
  },
  {
   "cell_type": "markdown",
   "id": "4cb92710-99dd-40e4-9851-6120892564e5",
   "metadata": {},
   "source": [
    "Logarithmic mean"
   ]
  },
  {
   "cell_type": "code",
   "execution_count": 9,
   "id": "b67fd340-be31-4d32-babc-590b18cad2ce",
   "metadata": {},
   "outputs": [
    {
     "data": {
      "text/plain": [
       "285.0204747254945"
      ]
     },
     "execution_count": 9,
     "metadata": {},
     "output_type": "execute_result"
    }
   ],
   "source": [
    "np.exp(np.log(df['order_amount']).mean())"
   ]
  },
  {
   "cell_type": "markdown",
   "id": "64e70c12-7787-47f7-986f-2776600beb14",
   "metadata": {},
   "source": [
    "### Question 1b: What metric would you report for this dataset?\n",
    "\n",
    "For this metric I would report the median. This is due to two factors:\n",
    "1. Reports an appropriate measure of central tendency similar to answer \"Average Order Value\", but adapts to a right-skewed distribution\n",
    "2. Is easily interpretable summary statistic and is computationally efficient"
   ]
  },
  {
   "cell_type": "markdown",
   "id": "09700fc8-6600-485d-8242-048189261f54",
   "metadata": {},
   "source": [
    "### Question 1c: What is its value?\n",
    "\n",
    "The value of the median for this dataset is 284"
   ]
  },
  {
   "cell_type": "markdown",
   "id": "53a62a9d-d8b8-4c17-ab10-7c8ccbff1807",
   "metadata": {
    "tags": []
   },
   "source": [
    "# Question 2: \n",
    "\n",
    "For this question you’ll need to use SQL. Follow this link to access the data set required for the challenge. Please use queries to answer the following questions. Paste your queries along with your final numerical answers below."
   ]
  },
  {
   "cell_type": "markdown",
   "id": "9236ac7a-92b6-42d5-9478-3d35475597bd",
   "metadata": {},
   "source": [
    "### How many orders were shipped by Speedy Express in total?"
   ]
  },
  {
   "cell_type": "markdown",
   "id": "c3b6940f-ca88-4e60-a35e-3db0722a729c",
   "metadata": {},
   "source": [
    "```\n",
    "SELECT COUNT(*)\n",
    "FROM Orders\n",
    "WHERE ShipperID = (\n",
    "\tSELECT ShipperID\n",
    "    FROM Shippers\n",
    "    WHERE ShipperName = 'Speedy Express'\n",
    ");\n",
    "```\n",
    "\n",
    "**54** orders were shipped by Speedy Express"
   ]
  },
  {
   "cell_type": "markdown",
   "id": "4b95eec4-5b75-4231-8c5e-99843e0efad8",
   "metadata": {},
   "source": [
    "### What is the last name of the employee with the most orders?"
   ]
  },
  {
   "cell_type": "markdown",
   "id": "131ffad4-01c9-497a-8c92-d3598de97458",
   "metadata": {},
   "source": [
    "```\n",
    "SELECT LastName\n",
    "FROM Employees\n",
    "JOIN (\n",
    "    SELECT EmployeeID, COUNT(OrderID) AS Order_Count\n",
    "    FROM Orders\n",
    "    GROUP BY EmployeeID\n",
    ") AS Employee_Orders ON Employee_Orders.EmployeeID = Employees.EmployeeID\n",
    "ORDER BY Employee_Orders.Order_Count DESC LIMIT 1;\n",
    "```\n",
    "\n",
    "The last name of the employee with the most orders is '**Peacock**'"
   ]
  },
  {
   "cell_type": "markdown",
   "id": "d101840b-b667-4530-99a8-98b29d0ec1e6",
   "metadata": {},
   "source": [
    "### What product was ordered the most by customers in Germany?"
   ]
  },
  {
   "cell_type": "markdown",
   "id": "e720ffa3-7860-4b36-aa18-1d0ba4302ab6",
   "metadata": {},
   "source": [
    "```\n",
    "SELECT Products.ProductID, ProductName, SUM(Quantity) AS Total_Products\n",
    "FROM Orders\n",
    "INNER JOIN Customers ON Orders.CustomerID = Customers.CustomerID\n",
    "INNER JOIN OrderDetails ON Orders.OrderID = OrderDetails.OrderID\n",
    "INNER JOIN Products ON OrderDetails.ProductID = Products.ProductID\n",
    "WHERE Customers.Country = 'Germany'\n",
    "GROUP BY Products.ProductID\n",
    "ORDER BY Total_Products DESC;\n",
    "```\n",
    "\n",
    "The product ordered most by customers in Germany is '**Boston Crab Meat**'"
   ]
  }
 ],
 "metadata": {
  "kernelspec": {
   "display_name": "Python 3",
   "language": "python",
   "name": "python3"
  },
  "language_info": {
   "codemirror_mode": {
    "name": "ipython",
    "version": 3
   },
   "file_extension": ".py",
   "mimetype": "text/x-python",
   "name": "python",
   "nbconvert_exporter": "python",
   "pygments_lexer": "ipython3",
   "version": "3.8.8"
  }
 },
 "nbformat": 4,
 "nbformat_minor": 5
}
